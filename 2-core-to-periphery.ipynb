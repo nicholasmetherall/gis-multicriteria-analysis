{
 "cells": [
  {
   "cell_type": "code",
   "execution_count": 1,
   "id": "36f2e3b0-cf60-4442-b77e-07d479899f4b",
   "metadata": {},
   "outputs": [],
   "source": [
    "# 2- Core to periphery"
   ]
  },
  {
   "cell_type": "code",
   "execution_count": null,
   "id": "d9e0f7db-15bb-40f4-a9c5-54881d5121a8",
   "metadata": {},
   "outputs": [],
   "source": [
    "# import dependencies\n",
    "import geopandas as gpd\n",
    "from shapely.geometry import Polygon, Point, LineString\n",
    "\n",
    "# Create a line from the point to the farthest boundary point of the subpolygon\n",
    "longest_line = LineString([point, farthest_point])\n",
    "\n",
    "print(f\"Longest distance: {max_dist}\")\n",
    "print(f\"Line: {longest_line}\")"
   ]
  },
  {
   "cell_type": "code",
   "execution_count": null,
   "id": "af0d8806-fdec-4f94-b42d-211fed49a39e",
   "metadata": {},
   "outputs": [],
   "source": [
    "# Define the outer polygon as the boundary of the main island\n",
    "outer_polygon = "
   ]
  },
  {
   "cell_type": "code",
   "execution_count": null,
   "id": "80449b2d-e25f-4f3c-b8a0-d2979f5e6cc0",
   "metadata": {},
   "outputs": [],
   "source": [
    "# Define sub-polygon as the boundaries of the smallest administrative areas available after clipping them within the main island or outer polygon  \n",
    "sub_polygon = "
   ]
  },
  {
   "cell_type": "code",
   "execution_count": null,
   "id": "5f8ee39d-3a6e-4b14-a76f-9ffe840dff36",
   "metadata": {},
   "outputs": [],
   "source": [
    "# Define your 'core' or capital city \n",
    "core = "
   ]
  },
  {
   "cell_type": "code",
   "execution_count": null,
   "id": "6ba2a120-4746-415c-9457-a5bed87b550c",
   "metadata": {},
   "outputs": [],
   "source": [
    "# Get exterior coordinates of the subpolygon\n",
    "sub_polygon_points = list(sub_polygon.exterior.coords)"
   ]
  },
  {
   "cell_type": "code",
   "execution_count": null,
   "id": "cb552c57-72c5-4fb3-adc6-f580e0ae3229",
   "metadata": {},
   "outputs": [],
   "source": [
    "# Find the boundary point of the subpolygon with the maximum distance from the point\n",
    "\n",
    "# make a distance variable to build on - it will start at 0 but then be calculated further later \n",
    "max_dist = 0\n",
    "\n",
    "# make a variable to store the farthest point. It will start as None but then be calculated later.\n",
    "farthest_point = None\n",
    "\n",
    "# For loop to look at all points inside the sub_polygons and calculate the distance of each point along the sub_polygon boundaries. If the new distance is greater then it calculates a new distance as the max distance.  \n",
    "for bp in sub_polygon_points:\n",
    "    dist = point.distance(Point(bp))\n",
    "    if dist > max_dist:\n",
    "        max_dist = dist\n",
    "        farthest_point = bp\n"
   ]
  },
  {
   "cell_type": "code",
   "execution_count": null,
   "id": "d8ecfbce-54c3-4964-8333-20c249bb2984",
   "metadata": {},
   "outputs": [],
   "source": [
    "# Create a line from the point to the farthest boundary point of the subpolygon\n",
    "longest_line = LineString([point, farthest_point])\n",
    "\n",
    "print(f\"Longest distance: {max_dist}\")\n",
    "print(f\"Line: {longest_line}\")\n"
   ]
  },
  {
   "cell_type": "code",
   "execution_count": null,
   "id": "c6f1785b-3cc8-466e-853e-fea17ae77d62",
   "metadata": {},
   "outputs": [],
   "source": [
    "# Define a variable to store the farthest polygon\n",
    "\n",
    "farthest_subpolygon = None\n",
    "\n",
    "for poly in sub_polygon:\n",
    "    for coord in poly.exterior.coords:\n",
    "        pt = Point(coord)\n",
    "        dist = ref_point.distance(pt)\n",
    "        if dist > max_dist:\n",
    "            max_dist = dist\n",
    "            farthest_point = pt\n",
    "            farthest_subpolygon = poly\n",
    "\n",
    "# Step 2: The subpolygon where the farthest point lies is already saved as 'farthest_subpolygon'\n",
    "print(\"Farthest point:\", farthest_point)\n"
   ]
  },
  {
   "cell_type": "code",
   "execution_count": null,
   "id": "5ba76982-df11-4a40-bd5d-c0b2b4741be9",
   "metadata": {},
   "outputs": [],
   "source": [
    "# Then map the farthest subpolygon\n",
    "periphery = farthest_subpolygon\n",
    "\n",
    "print(\"Farthest distract on the periphery is:\", farthest_subpolygon)"
   ]
  }
 ],
 "metadata": {
  "kernelspec": {
   "display_name": "Python 3 (ipykernel)",
   "language": "python",
   "name": "python3"
  },
  "language_info": {
   "codemirror_mode": {
    "name": "ipython",
    "version": 3
   },
   "file_extension": ".py",
   "mimetype": "text/x-python",
   "name": "python",
   "nbconvert_exporter": "python",
   "pygments_lexer": "ipython3",
   "version": "3.10.16"
  }
 },
 "nbformat": 4,
 "nbformat_minor": 5
}
