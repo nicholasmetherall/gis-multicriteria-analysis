{
 "cells": [
  {
   "cell_type": "markdown",
   "id": "029e32d3-0d58-43f9-b0cc-016a6d3308c3",
   "metadata": {},
   "source": [
    "### Notebook '1-multicriteria-analysis.ipynb' "
   ]
  },
  {
   "cell_type": "code",
   "execution_count": 4,
   "id": "e231fa72-fe65-49ae-bf80-0a3c97e7fe21",
   "metadata": {},
   "outputs": [],
   "source": [
    "# Import dependencies / libraries\n",
    "\n",
    "import geopandas as gpd\n",
    "import numpy as np\n",
    "import pandas as np\n",
    "import matplotlib as plt\n",
    "import matplotlib.pyplot as plt\n",
    "\n"
   ]
  },
  {
   "cell_type": "code",
   "execution_count": null,
   "id": "ec6e429a-8f63-4e27-8051-8cb013e03f8a",
   "metadata": {},
   "outputs": [],
   "source": [
    "# Define your island as a variable\n",
    "\n",
    "island =  gpd.read_file(\"----------.geojson\")"
   ]
  },
  {
   "cell_type": "code",
   "execution_count": null,
   "id": "610ef088-a802-4f92-b551-d0d890b0aef8",
   "metadata": {},
   "outputs": [],
   "source": [
    "# Define your major variables : \n",
    "\n",
    "roads = \n",
    "population = \n",
    "rivers = \n",
    "landuse = "
   ]
  },
  {
   "cell_type": "code",
   "execution_count": null,
   "id": "81f4c611-0e15-4d87-9ab6-a31cfd663641",
   "metadata": {},
   "outputs": [],
   "source": [
    "# Define other variables for analysis\n",
    "\n"
   ]
  },
  {
   "cell_type": "code",
   "execution_count": null,
   "id": "90d69326-5b9e-493b-8f54-b76bc0affb51",
   "metadata": {},
   "outputs": [],
   "source": [
    "# Clip major variables to your island boundary\n",
    "\n",
    "roads = gpd.clip(roads, island, keep_geom_type=True) \n",
    "population = \n",
    "rivers = \n",
    "landuse = \n",
    "\n"
   ]
  },
  {
   "cell_type": "code",
   "execution_count": null,
   "id": "e8de6677-db66-4928-a007-b0ec2732a7a9",
   "metadata": {},
   "outputs": [],
   "source": [
    "# Clip other variables to your island boundary\n",
    "\n",
    "\n"
   ]
  },
  {
   "cell_type": "code",
   "execution_count": null,
   "id": "9ce20a78-6b3d-46d3-92b6-64501ee29411",
   "metadata": {},
   "outputs": [],
   "source": [
    "# Plot the resulting data\n",
    "\n",
    "island.plot()"
   ]
  },
  {
   "cell_type": "code",
   "execution_count": null,
   "id": "0c1619b8-08a5-4310-9664-b22491698a1a",
   "metadata": {},
   "outputs": [],
   "source": [
    "# Create one matplotlib figure/axes\n",
    "fig, ax = plt.subplots(figsize=(10, 10))\n",
    "\n",
    "# Plot each GeoDataFrame on the same axes\n",
    "island.plot(ax=ax, color='red', label='Layer 1')\n",
    "roads.plot(ax=ax, color='blue', alpha=0.5, label='Layer 2')\n",
    "population.plot(ax=ax, color='green', alpha=0.3, label='Layer 3')\n",
    "\n",
    "# Optionally add a legend\n",
    "ax.legend()\n",
    "\n",
    "plt.show()"
   ]
  }
 ],
 "metadata": {
  "kernelspec": {
   "display_name": "Python 3 (ipykernel)",
   "language": "python",
   "name": "python3"
  },
  "language_info": {
   "codemirror_mode": {
    "name": "ipython",
    "version": 3
   },
   "file_extension": ".py",
   "mimetype": "text/x-python",
   "name": "python",
   "nbconvert_exporter": "python",
   "pygments_lexer": "ipython3",
   "version": "3.10.16"
  }
 },
 "nbformat": 4,
 "nbformat_minor": 5
}
